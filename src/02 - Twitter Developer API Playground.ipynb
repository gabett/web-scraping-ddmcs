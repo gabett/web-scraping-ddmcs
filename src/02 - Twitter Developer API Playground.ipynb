{
 "cells": [
  {
   "cell_type": "code",
   "execution_count": 1,
   "id": "c157eeb0",
   "metadata": {},
   "outputs": [],
   "source": [
    "import tweepy\n",
    "import json\n",
    "import pandas as pd"
   ]
  },
  {
   "cell_type": "code",
   "execution_count": 2,
   "id": "3c407f19",
   "metadata": {},
   "outputs": [],
   "source": [
    "bearer_token = \"\"\n",
    "\n",
    "client = tweepy.Client(bearer_token)"
   ]
  },
  {
   "cell_type": "code",
   "execution_count": 25,
   "id": "0729265d",
   "metadata": {},
   "outputs": [
    {
     "data": {
      "text/html": [
       "<div>\n",
       "<style scoped>\n",
       "    .dataframe tbody tr th:only-of-type {\n",
       "        vertical-align: middle;\n",
       "    }\n",
       "\n",
       "    .dataframe tbody tr th {\n",
       "        vertical-align: top;\n",
       "    }\n",
       "\n",
       "    .dataframe thead th {\n",
       "        text-align: right;\n",
       "    }\n",
       "</style>\n",
       "<table border=\"1\" class=\"dataframe\">\n",
       "  <thead>\n",
       "    <tr style=\"text-align: right;\">\n",
       "      <th></th>\n",
       "      <th>attachments</th>\n",
       "      <th>author_id</th>\n",
       "      <th>conversation_id</th>\n",
       "      <th>created_at</th>\n",
       "      <th>edit_history_tweet_ids</th>\n",
       "      <th>entities</th>\n",
       "      <th>id</th>\n",
       "      <th>lang</th>\n",
       "      <th>possibly_sensitive</th>\n",
       "      <th>public_metrics</th>\n",
       "      <th>referenced_tweets</th>\n",
       "      <th>reply_settings</th>\n",
       "      <th>source</th>\n",
       "      <th>text</th>\n",
       "    </tr>\n",
       "  </thead>\n",
       "  <tbody>\n",
       "    <tr>\n",
       "      <th>0</th>\n",
       "      <td>{'media_keys': ['7_1460322142680072196']}</td>\n",
       "      <td>2244994945</td>\n",
       "      <td>1460323737035677698</td>\n",
       "      <td>2021-11-15 19:08:05+00:00</td>\n",
       "      <td>[1460323737035677698]</td>\n",
       "      <td>{'annotations': [{'start': 30, 'end': 46, 'pro...</td>\n",
       "      <td>1460323737035677698</td>\n",
       "      <td>en</td>\n",
       "      <td>False</td>\n",
       "      <td>{'retweet_count': 300, 'reply_count': 156, 'li...</td>\n",
       "      <td>NaN</td>\n",
       "      <td>everyone</td>\n",
       "      <td>Twitter Web App</td>\n",
       "      <td>Introducing a new era for the Twitter Develope...</td>\n",
       "    </tr>\n",
       "    <tr>\n",
       "      <th>1</th>\n",
       "      <td>{'media_keys': ['7_1293565706408038401']}</td>\n",
       "      <td>2244994945</td>\n",
       "      <td>1293593516040269825</td>\n",
       "      <td>2020-08-12 17:01:42+00:00</td>\n",
       "      <td>[1293593516040269825]</td>\n",
       "      <td>{'annotations': [{'start': 43, 'end': 52, 'pro...</td>\n",
       "      <td>1293593516040269825</td>\n",
       "      <td>en</td>\n",
       "      <td>False</td>\n",
       "      <td>{'retweet_count': 912, 'reply_count': 190, 'li...</td>\n",
       "      <td>NaN</td>\n",
       "      <td>everyone</td>\n",
       "      <td>Twitter Web App</td>\n",
       "      <td>It’s finally here! 🥁 Say hello to the new #Twi...</td>\n",
       "    </tr>\n",
       "    <tr>\n",
       "      <th>2</th>\n",
       "      <td>NaN</td>\n",
       "      <td>6253282</td>\n",
       "      <td>1293595870563381249</td>\n",
       "      <td>2020-08-12 17:11:04+00:00</td>\n",
       "      <td>[1293595870563381249]</td>\n",
       "      <td>{'annotations': [{'start': 0, 'end': 6, 'proba...</td>\n",
       "      <td>1293595870563381249</td>\n",
       "      <td>en</td>\n",
       "      <td>False</td>\n",
       "      <td>{'retweet_count': 166, 'reply_count': 418, 'li...</td>\n",
       "      <td>[(type, id)]</td>\n",
       "      <td>everyone</td>\n",
       "      <td>Twitter Web App</td>\n",
       "      <td>Twitter API v2: Early Access released\\n\\nToday...</td>\n",
       "    </tr>\n",
       "  </tbody>\n",
       "</table>\n",
       "</div>"
      ],
      "text/plain": [
       "                                 attachments   author_id      conversation_id  \\\n",
       "0  {'media_keys': ['7_1460322142680072196']}  2244994945  1460323737035677698   \n",
       "1  {'media_keys': ['7_1293565706408038401']}  2244994945  1293593516040269825   \n",
       "2                                        NaN     6253282  1293595870563381249   \n",
       "\n",
       "                 created_at edit_history_tweet_ids  \\\n",
       "0 2021-11-15 19:08:05+00:00  [1460323737035677698]   \n",
       "1 2020-08-12 17:01:42+00:00  [1293593516040269825]   \n",
       "2 2020-08-12 17:11:04+00:00  [1293595870563381249]   \n",
       "\n",
       "                                            entities                   id  \\\n",
       "0  {'annotations': [{'start': 30, 'end': 46, 'pro...  1460323737035677698   \n",
       "1  {'annotations': [{'start': 43, 'end': 52, 'pro...  1293593516040269825   \n",
       "2  {'annotations': [{'start': 0, 'end': 6, 'proba...  1293595870563381249   \n",
       "\n",
       "  lang  possibly_sensitive                                     public_metrics  \\\n",
       "0   en               False  {'retweet_count': 300, 'reply_count': 156, 'li...   \n",
       "1   en               False  {'retweet_count': 912, 'reply_count': 190, 'li...   \n",
       "2   en               False  {'retweet_count': 166, 'reply_count': 418, 'li...   \n",
       "\n",
       "  referenced_tweets reply_settings           source  \\\n",
       "0               NaN       everyone  Twitter Web App   \n",
       "1               NaN       everyone  Twitter Web App   \n",
       "2      [(type, id)]       everyone  Twitter Web App   \n",
       "\n",
       "                                                text  \n",
       "0  Introducing a new era for the Twitter Develope...  \n",
       "1  It’s finally here! 🥁 Say hello to the new #Twi...  \n",
       "2  Twitter API v2: Early Access released\\n\\nToday...  "
      ]
     },
     "execution_count": 25,
     "metadata": {},
     "output_type": "execute_result"
    }
   ],
   "source": [
    "# Get tweet by ids\n",
    "tweet_ids = [1460323737035677698, 1293593516040269825, 1293595870563381249]\n",
    "\n",
    "fields = ['attachments', 'author_id',\n",
    "                    'conversation_id', 'created_at', 'entities',\n",
    "                    'geo', 'id', 'in_reply_to_user_id', 'lang', 'public_metrics', 'possibly_sensitive', 'referenced_tweets',\n",
    "                    'reply_settings', 'source', 'text', 'withheld']\n",
    "\n",
    "response = client.get_tweets(tweet_ids, tweet_fields = fields)\n",
    "    \n",
    "response_df = pd.DataFrame(response.data)\n",
    "response_df.to_csv(\"./tweets.csv\")\n",
    "response_df"
   ]
  },
  {
   "cell_type": "code",
   "execution_count": 6,
   "id": "0fa89590",
   "metadata": {},
   "outputs": [
    {
     "name": "stdout",
     "output_type": "stream",
     "text": [
      "TwitterDev 2244994945 2013-12-14 04:35:55+00:00\n",
      "TwitterAPI 6253282 2007-05-23 06:01:13+00:00\n"
     ]
    }
   ],
   "source": [
    "# Get user information by id\n",
    "user_ids = [2244994945, 6253282]\n",
    "\n",
    "response = client.get_users(ids=user_ids, user_fields=[\"created_at\"])\n",
    "\n",
    "for user in response.data:\n",
    "    print(user.username, user.id, user.created_at)"
   ]
  },
  {
   "cell_type": "code",
   "execution_count": 7,
   "id": "2f7d54a4",
   "metadata": {},
   "outputs": [
    {
     "name": "stdout",
     "output_type": "stream",
     "text": [
      "TwitterDev 2244994945\n",
      "TwitterAPI 6253282\n"
     ]
    }
   ],
   "source": [
    "# Get user information by id\n",
    "user_ids = [2244994945, 6253282]\n",
    "\n",
    "response = client.get_users(ids=user_ids, user_fields=[\"id\"])\n",
    "\n",
    "for user in response.data:\n",
    "    print(user.username, user.id)\n",
    "\n",
    "response_df = pd.DataFrame(response.data)\n",
    "response_df.to_csv(\"./users.csv\")"
   ]
  }
 ],
 "metadata": {
  "kernelspec": {
   "display_name": "Python 3 (ipykernel)",
   "language": "python",
   "name": "python3"
  },
  "language_info": {
   "codemirror_mode": {
    "name": "ipython",
    "version": 3
   },
   "file_extension": ".py",
   "mimetype": "text/x-python",
   "name": "python",
   "nbconvert_exporter": "python",
   "pygments_lexer": "ipython3",
   "version": "3.10.7"
  }
 },
 "nbformat": 4,
 "nbformat_minor": 5
}
