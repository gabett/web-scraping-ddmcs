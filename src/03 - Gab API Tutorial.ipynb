{
 "cells": [
  {
   "cell_type": "code",
   "execution_count": 3,
   "id": "eeaf60cc",
   "metadata": {},
   "outputs": [],
   "source": [
    "import pandas as pd\n",
    "import requests\n",
    "import json"
   ]
  },
  {
   "cell_type": "code",
   "execution_count": 4,
   "id": "48e0439b",
   "metadata": {},
   "outputs": [],
   "source": [
    "def get(bearer, status_id):\n",
    "    url = 'https://gab.com/api/v1/statuses/{0}'.format(status_id)\n",
    "    session = requests.Session()\n",
    "    header = {'User-Agent': \"nanni-moretti\",\n",
    "        'authorization': 'Bearer {0}'.format(bearer)}\n",
    "\n",
    "    response = session.get(url, headers=header)\n",
    "    if response.status_code == 200:\n",
    "        return response\n",
    "    else:\n",
    "        return None"
   ]
  },
  {
   "cell_type": "code",
   "execution_count": 6,
   "id": "ee211403",
   "metadata": {},
   "outputs": [
    {
     "data": {
      "text/plain": [
       "{'id': '107760498522190851',\n",
       " 'created_at': '2022-02-08T04:31:56.240Z',\n",
       " 'revised_at': '2022-02-08T06:47:25.411Z',\n",
       " 'in_reply_to_id': None,\n",
       " 'in_reply_to_account_id': None,\n",
       " 'sensitive': False,\n",
       " 'spoiler_text': '',\n",
       " 'visibility': 'public',\n",
       " 'language': 'en',\n",
       " 'uri': '/1776Stonewall/posts/107760498522190851',\n",
       " 'url': 'https://gab.com/1776Stonewall/posts/107760498522190851',\n",
       " 'direct_replies_count': 246,\n",
       " 'replies_count': 456,\n",
       " 'reblogs_count': 686,\n",
       " 'pinnable': False,\n",
       " 'pinnable_by_group': False,\n",
       " 'favourites_count': 1812,\n",
       " 'quote_of_id': None,\n",
       " 'expires_at': None,\n",
       " 'has_quote': False,\n",
       " 'bookmark_collection_id': None,\n",
       " 'quotes_count': 151,\n",
       " 'reaction_id': None,\n",
       " 'reactions_counts': {'1': 1731, '2': 1, '3': 2, '6': 54, '11': 23, '12': 1},\n",
       " 'is_reply': False,\n",
       " 'account_id': '2374687',\n",
       " 'media_attachment_ids': [],\n",
       " 'content': 'Hello, everyone: I\\'ve been rescuing cats for over 20 years now. I care for local colonies, I take in sick cats, get them better and either find homes for them or re-release them. People bring cats in need to me. Anything having to do with cat rescue I do. And for about 5 years now I have had online fundraisers. I have a GoFundMe, an Amazon Wish List for cat food and supplies, I have a Paypal, and now I have a Give-Send-Go.<br /><br />Back in my Twitter days a bunch of leftists made up lies about me to GoFundMe and they did an investigation into my account. Luckily I keep receipts and was able to prove that all the money does indeed go to the cats. And there are many people who can vouch for me. I thank all of you who have helped me in the past, and those of you who might in the future. Thank you, all.<br /><br />Here are the links to my Give-Send-Go, Go-Fund-Me, Amazon Wish List, and Paypal<br /><br /><a href=\"https://www.givesendgo.com/1776stonewall\" rel=\"nofollow noopener\" target=\"_blank\"><span class=\"invisible\">https://www.</span>givesendgo.com/1776stonewall<span class=\"invisible\"></span></a><br /><br /><a href=\"https://www.amazon.com/hz/wishlist/ls/1QWH9NH1IFYHL\" rel=\"nofollow noopener\" target=\"_blank\"><span class=\"invisible\">https://www.</span>amazon.com/hz/wishlist/ls/1QWH9NH1IFYHL<span class=\"invisible\"></span></a><br /><br /><a href=\"https://www.gofundme.com/f/ya7me4-care-for-cats\" rel=\"nofollow noopener\" target=\"_blank\"><span class=\"invisible\">https://www.</span>gofundme.com/f/ya7me4-care-for-cats<span class=\"invisible\"></span></a><br /><br />PayPal is \"1776stonewallny@gmail.com\"',\n",
       " 'reblog': None,\n",
       " 'quote': None,\n",
       " 'account': {'id': '2374687',\n",
       "  'username': '1776Stonewall',\n",
       "  'acct': '1776Stonewall',\n",
       "  'display_name': 'Stonewall Jackson',\n",
       "  'locked': False,\n",
       "  'bot': False,\n",
       "  'created_at': '2021-01-09T21:44:16.893Z',\n",
       "  'note': '<p>American History Buff. Conservative. Patriot. Banned from Twitter with 330,000 followers because President Trump was frequently quoting/retweeting me . . . Rescues/Fosters Cats</p>',\n",
       "  'url': 'https://gab.com/1776Stonewall',\n",
       "  'avatar': 'https://media.gab.com/system/accounts/avatars/002/374/687/original/stoney.jpeg',\n",
       "  'avatar_static': 'https://media.gab.com/system/accounts/avatars/002/374/687/original/stoney.jpeg',\n",
       "  'avatar_small': 'https://media.gab.com/cdn-cgi/image/width=92,fit=scale-down/system/accounts/avatars/002/374/687/original/stoney.jpeg',\n",
       "  'avatar_static_small': 'https://media.gab.com/cdn-cgi/image/width=92,fit=scale-down/system/accounts/avatars/002/374/687/original/stoney.jpeg',\n",
       "  'header': 'https://media.gab.com/system/accounts/headers/002/374/687/original/little_sorrel_4.jpg',\n",
       "  'header_static': 'https://media.gab.com/system/accounts/headers/002/374/687/original/little_sorrel_4.jpg',\n",
       "  'is_spam': False,\n",
       "  'followers_count': 48772,\n",
       "  'following_count': 31258,\n",
       "  'statuses_count': 8618,\n",
       "  'is_pro': True,\n",
       "  'is_verified': True,\n",
       "  'is_donor': False,\n",
       "  'is_investor': False,\n",
       "  'show_pro_life': False,\n",
       "  'emojis': [],\n",
       "  'fields': []},\n",
       " 'group': None,\n",
       " 'media_attachments': [],\n",
       " 'mentions': [],\n",
       " 'tags': [],\n",
       " 'emojis': [],\n",
       " 'card': None,\n",
       " 'poll': None}"
      ]
     },
     "execution_count": 6,
     "metadata": {},
     "output_type": "execute_result"
    }
   ],
   "source": [
    "bearer = \"OD3hUU3cnU6DWH-vPdCWEj4wszZbl2LQWiCSdnc9lhU\", \n",
    "status_id = \"107760498522190851\"\n",
    "\n",
    "response = get(bearer, status_id)\n",
    "\n",
    "response = json.loads(response.text)\n",
    "response"
   ]
  },
  {
   "cell_type": "code",
   "execution_count": null,
   "id": "ba25324d",
   "metadata": {},
   "outputs": [],
   "source": []
  }
 ],
 "metadata": {
  "kernelspec": {
   "display_name": "Python 3 (ipykernel)",
   "language": "python",
   "name": "python3"
  },
  "language_info": {
   "codemirror_mode": {
    "name": "ipython",
    "version": 3
   },
   "file_extension": ".py",
   "mimetype": "text/x-python",
   "name": "python",
   "nbconvert_exporter": "python",
   "pygments_lexer": "ipython3",
   "version": "3.10.7"
  }
 },
 "nbformat": 4,
 "nbformat_minor": 5
}
